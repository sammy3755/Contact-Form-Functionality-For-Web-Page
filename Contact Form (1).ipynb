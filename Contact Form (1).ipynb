{
 "cells": [
  {
   "cell_type": "markdown",
   "id": "c00b53b1",
   "metadata": {},
   "source": [
    "## Contact form functionality"
   ]
  },
  {
   "cell_type": "code",
   "execution_count": 1,
   "id": "cf8971e9",
   "metadata": {},
   "outputs": [
    {
     "data": {
      "text/plain": [
       "(221,\n",
       " b'2.0.0 closing connection x3-20020a5d60c3000000b0030ae499da59sm2219135wrt.111 - gsmtp')"
      ]
     },
     "execution_count": 1,
     "metadata": {},
     "output_type": "execute_result"
    }
   ],
   "source": [
    "import smtplib\n",
    "from email.mime.text import MIMEText\n",
    "from email.mime.multipart import MIMEMultipart\n",
    "\n",
    "# Email information\n",
    "email_from = \"your_email@gmail.com\"\n",
    "email_to = \"recipient@example.com\"  # Replace with the recipient's email address\n",
    "subject = \"Test Email\"\n",
    "body = \"This is a test email\"\n",
    "\n",
    "# SMTP server configuration\n",
    "smtp_server = \"smtp.gmail.com\"\n",
    "smtp_port = 587\n",
    "smtp_username = \"your_email@gmail.com\"\n",
    "smtp_password = \"your_password\"\n",
    "\n",
    "# Create a multipart message\n",
    "message = MIMEMultipart()\n",
    "message[\"From\"] = email_from\n",
    "message[\"To\"] = email_to\n",
    "message[\"Subject\"] = subject\n",
    "\n",
    "# Add body to the email\n",
    "message.attach(MIMEText(body, \"plain\"))\n",
    "\n",
    "# Create SMTP session\n",
    "smtp_session = smtplib.SMTP(smtp_server, smtp_port)\n",
    "smtp_session.starttls()\n",
    "smtp_session.login(smtp_username, smtp_password)\n",
    "\n",
    "# Send the email\n",
    "smtp_session.sendmail(email_from, email_to, message.as_string())\n",
    "\n",
    "# Close the SMTP session\n",
    "smtp_session.quit()"
   ]
  },
  {
   "cell_type": "code",
   "execution_count": null,
   "id": "1d75633f",
   "metadata": {},
   "outputs": [],
   "source": []
  }
 ],
 "metadata": {
  "kernelspec": {
   "display_name": "Python 3 (ipykernel)",
   "language": "python",
   "name": "python3"
  },
  "language_info": {
   "codemirror_mode": {
    "name": "ipython",
    "version": 3
   },
   "file_extension": ".py",
   "mimetype": "text/x-python",
   "name": "python",
   "nbconvert_exporter": "python",
   "pygments_lexer": "ipython3",
   "version": "3.10.9"
  }
 },
 "nbformat": 4,
 "nbformat_minor": 5
}
